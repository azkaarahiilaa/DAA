{
  "nbformat": 4,
  "nbformat_minor": 0,
  "metadata": {
    "colab": {
      "provenance": [],
      "authorship_tag": "ABX9TyNJh0rRJvOdE53j5vrwDbm3",
      "include_colab_link": true
    },
    "kernelspec": {
      "name": "python3",
      "display_name": "Python 3"
    },
    "language_info": {
      "name": "python"
    }
  },
  "cells": [
    {
      "cell_type": "markdown",
      "metadata": {
        "id": "view-in-github",
        "colab_type": "text"
      },
      "source": [
        "<a href=\"https://colab.research.google.com/github/azkaarahiilaa/DAA/blob/main/DAA10.ipynb\" target=\"_parent\"><img src=\"https://colab.research.google.com/assets/colab-badge.svg\" alt=\"Open In Colab\"/></a>"
      ]
    },
    {
      "cell_type": "code",
      "execution_count": 7,
      "metadata": {
        "colab": {
          "base_uri": "https://localhost:8080/"
        },
        "id": "STTaVyXeNXIk",
        "outputId": "c51fab5c-a635-4d7c-d9eb-3e741eec8327"
      },
      "outputs": [
        {
          "output_type": "stream",
          "name": "stdout",
          "text": [
            "Requirement already satisfied: pulp in /usr/local/lib/python3.10/dist-packages (2.7.0)\n"
          ]
        }
      ],
      "source": [
        "pip install pulp"
      ]
    },
    {
      "cell_type": "code",
      "source": [
        "import pulp\n",
        "#instantiate our problem class\n",
        "model = pulp.LpProblem(\"ProfitMaximisingProblem\", pulp.LpMaximize)\n",
        "A = pulp.LpVariable('A', lowBound=0, cat='Integer')\n",
        "B = pulp.LpVariable('B', lowBound=0, cat='Integer')"
      ],
      "metadata": {
        "id": "wCkNc9cpNs6R"
      },
      "execution_count": 8,
      "outputs": []
    },
    {
      "cell_type": "code",
      "source": [
        "import pulp\n",
        "#instantiate our problem class\n",
        "model = pulp.LpProblem(\"ProfitMaximisingProblem\", pulp.LpMaximize)\n",
        "A = pulp.LpVariable('A', lowBound=0, cat='Integer')\n",
        "B = pulp.LpVariable('B', lowBound=0, cat='Integer')\n",
        "#objective function\n",
        "model += 5000 * A + 2500 * B, \"profit\"\n",
        "# constraints\n",
        "model += 3 * A + 2 * B <= 20\n",
        "model += 4 * A + 2 * B <= 30\n",
        "model += 4 * A + 2 * B <= 44\n",
        "\n",
        "# solve our problem\n",
        "model.solve()\n",
        "pulp.LpStatus[model.status]\n",
        "\n",
        "#print our desicion variable values\n",
        "print (A.varValue)\n",
        "print (B.varValue)\n",
        "\n",
        "# print our objective function value\n",
        "print (pulp.value(model.objective))"
      ],
      "metadata": {
        "colab": {
          "base_uri": "https://localhost:8080/"
        },
        "id": "C68u7nUPOAZY",
        "outputId": "dec93ac1-d46f-468c-9be6-ebfad446286e"
      },
      "execution_count": 9,
      "outputs": [
        {
          "output_type": "stream",
          "name": "stdout",
          "text": [
            "6.0\n",
            "1.0\n",
            "32500.0\n"
          ]
        }
      ]
    },
    {
      "cell_type": "code",
      "source": [
        "# 4x + 3y = 34\n",
        "import pulp\n",
        "\n",
        "# Membuat objek masalah optimasi\n",
        "model = pulp.LpProblem(name=\"Pemecahan_Persamaan\", sense=pulp.LpMinimize)\n",
        "\n",
        "# Membuat variabel x dan y\n",
        "x = pulp.LpVariable(name=\"x\")\n",
        "y = pulp.LpVariable(name=\"y\")\n",
        "\n",
        "# Menambahkan batasan\n",
        "model += 4 * x + 3 * y == 34\n",
        "\n",
        "# Menyelesaikan masalah\n",
        "model.solve()\n",
        "\n",
        "# Menampilkan hasil\n",
        "print(\"Status:\",pulp.LpStatus[model.status])\n",
        "print(\"Nilai x =\", x.varValue)\n",
        "print(\"Nilai y =\", y.varValue)\n"
      ],
      "metadata": {
        "colab": {
          "base_uri": "https://localhost:8080/"
        },
        "id": "DZHBXCreKIjG",
        "outputId": "a51f1068-cf3f-47af-9f34-6e6751c53670"
      },
      "execution_count": 15,
      "outputs": [
        {
          "output_type": "stream",
          "name": "stdout",
          "text": [
            "Status: Optimal\n",
            "Nilai x = 8.5\n",
            "Nilai y = 0.0\n"
          ]
        }
      ]
    },
    {
      "cell_type": "code",
      "source": [
        "# 5x + y = 37\n",
        "import pulp\n",
        "\n",
        "# Membuat objek masalah optimasi\n",
        "model = pulp.LpProblem(name=\"Pemecahan_Persamaan\", sense=pulp.LpMinimize)\n",
        "\n",
        "# Membuat variabel x dan y\n",
        "c = pulp.LpVariable(name=\"x\")\n",
        "d = pulp.LpVariable(name=\"y\")\n",
        "\n",
        "# Menambahkan batasan\n",
        "model += 5 * c + d == 37\n",
        "\n",
        "# Menyelesaikan masalah\n",
        "model.solve()\n",
        "\n",
        "# Menampilkan hasil\n",
        "print(\"Status:\",pulp.LpStatus[model.status])\n",
        "print(\"Nilai x =\", c.varValue)\n",
        "print(\"Nilai y =\", d.varValue)\n"
      ],
      "metadata": {
        "colab": {
          "base_uri": "https://localhost:8080/"
        },
        "id": "o-gn1llCKVN5",
        "outputId": "720ee956-1018-4293-917b-842fd9be25f6"
      },
      "execution_count": 17,
      "outputs": [
        {
          "output_type": "stream",
          "name": "stdout",
          "text": [
            "Status: Optimal\n",
            "Nilai x = 7.4\n",
            "Nilai y = 0.0\n"
          ]
        }
      ]
    },
    {
      "cell_type": "code",
      "source": [
        "#Latihan Soal Cerita 1\n",
        "import pulp\n",
        "\n",
        "# Membuat objek masalah optimasi\n",
        "model = pulp.LpProblem(name=\"Pemecahan_Persamaan\", sense=pulp.LpMinimize)\n",
        "\n",
        "# Membuat variabel x dan y\n",
        "x = pulp.LpVariable(name=\"p\")\n",
        "y = pulp.LpVariable(name=\"b\")\n",
        "\n",
        "# Menambahkan batasan\n",
        "model += 3 * x + 4 * y == 11000\n",
        "model += 1 * x + 7 * y == 15000\n",
        "\n",
        "# Menyelesaikan masalah\n",
        "model.solve()\n",
        "\n",
        "# Menampilkan hasil\n",
        "print(\"Status:\",pulp.LpStatus[model.status])\n",
        "print(\"Nilai p =\", x.varValue)\n",
        "print(\"Nilai b =\", y.varValue)\n",
        "\n",
        "#Menghitung 2 Pensil dan 6 Buku\n",
        "\n",
        "result1 = 2 * x.varValue\n",
        "result2 = 6 * y.varValue\n",
        "\n",
        "print(\"Harga 2 pensil =\", result1)\n",
        "print(\"Harga 6 buku =\", result2)\n",
        "\n",
        "print( \"Total harga = \",result1 + result2)"
      ],
      "metadata": {
        "colab": {
          "base_uri": "https://localhost:8080/"
        },
        "id": "SRYNWEjJkKe3",
        "outputId": "7bb5b351-c7eb-4e18-f640-10bdfc429610"
      },
      "execution_count": 19,
      "outputs": [
        {
          "output_type": "stream",
          "name": "stdout",
          "text": [
            "Status: Optimal\n",
            "Nilai p = 1000.0\n",
            "Nilai b = 2000.0\n",
            "Harga 2 pensil = 2000.0\n",
            "Harga 6 buku = 12000.0\n",
            "Total harga =  14000.0\n"
          ]
        }
      ]
    },
    {
      "cell_type": "code",
      "source": [
        "#Latihan Soal Cerita 2\n",
        "import pulp\n",
        "\n",
        "# Membuat objek masalah optimasi\n",
        "model = pulp.LpProblem(name=\"Keliling_Persegi_Panjang\", sense=pulp.LpMinimize)\n",
        "\n",
        "# Membuat variabel panjang dan lebar\n",
        "panjang = pulp.LpVariable(name=\"panjang\")\n",
        "lebar = pulp.LpVariable(name=\"lebar\")\n",
        "\n",
        "# Menambahkan batasan\n",
        "model += panjang + lebar == 44\n",
        "model += lebar == panjang - 6\n",
        "\n",
        "# Menyelesaikan masalah\n",
        "model.solve()\n",
        "\n",
        "# Menampilkan hasil\n",
        "print(\"Status:\", pulp.LpStatus[model.status])\n",
        "print(\"Panjang:\", panjang.varValue)\n",
        "print(\"Lebar:\", lebar.varValue)"
      ],
      "metadata": {
        "id": "Se3t_6JBnExp",
        "colab": {
          "base_uri": "https://localhost:8080/"
        },
        "outputId": "5afccdd2-599f-4365-f118-c27358f5136f"
      },
      "execution_count": 20,
      "outputs": [
        {
          "output_type": "stream",
          "name": "stdout",
          "text": [
            "Status: Optimal\n",
            "Panjang: 25.0\n",
            "Lebar: 19.0\n"
          ]
        }
      ]
    },
    {
      "cell_type": "code",
      "source": [
        "#Import required libraries\n",
        "import numpy as np\n",
        "from scipy.optimize import linprog"
      ],
      "metadata": {
        "id": "1SX8DVmPKoG9"
      },
      "execution_count": 21,
      "outputs": []
    },
    {
      "cell_type": "code",
      "source": [
        "# Set the inequality constraints matrix\n",
        "\n",
        "#Note: the inequality constraints must be in the form of <=\n",
        "A = np.array([[1, 0], [2, 3], [1, 1], [-1, 0], [0, 1]])"
      ],
      "metadata": {
        "id": "CjSPqnEQKn8d"
      },
      "execution_count": 22,
      "outputs": []
    },
    {
      "cell_type": "code",
      "source": [
        "# Set the inequality constraints vector\n",
        "b = np.array([16, 19, 8, 0, 0])"
      ],
      "metadata": {
        "id": "PCwsye4yKzhX"
      },
      "execution_count": 23,
      "outputs": []
    },
    {
      "cell_type": "code",
      "source": [
        "# Set the coefficients of the linear objective function vector\n",
        "\n",
        "# Note: when maximizing, change the signs of the c vector coefficient\n",
        "c = np.array([-5 , -7])"
      ],
      "metadata": {
        "id": "6F544tUvKzaL"
      },
      "execution_count": 24,
      "outputs": []
    },
    {
      "cell_type": "code",
      "source": [
        "# Solve Linear programming problem\n",
        "res = linprog(c, A_ub=A, b_ub=b)\n",
        "# Print results\n",
        "print('Optimal value:', round (res. fun*-1, ndigits=2),\n",
        "      '\\nx values:', res.x,\n",
        "      '\\nNumber of iterations performed:', res.nit,\n",
        "      '\\nStatus:', res.message)"
      ],
      "metadata": {
        "colab": {
          "base_uri": "https://localhost:8080/"
        },
        "id": "lQBPCkOvK6kF",
        "outputId": "59364eb2-e1bd-4908-989f-defb951a6012"
      },
      "execution_count": 25,
      "outputs": [
        {
          "output_type": "stream",
          "name": "stdout",
          "text": [
            "Optimal value: 40.0 \n",
            "x values: [ 8. -0.] \n",
            "Number of iterations performed: 0 \n",
            "Status: Optimization terminated successfully. (HiGHS Status 7: Optimal)\n"
          ]
        }
      ]
    },
    {
      "cell_type": "code",
      "source": [],
      "metadata": {
        "id": "jXlOiiIALEPP"
      },
      "execution_count": null,
      "outputs": []
    },
    {
      "cell_type": "code",
      "source": [],
      "metadata": {
        "id": "QpR6_ZxxLED4"
      },
      "execution_count": null,
      "outputs": []
    },
    {
      "cell_type": "code",
      "source": [],
      "metadata": {
        "id": "3e3WUhisKzMb"
      },
      "execution_count": null,
      "outputs": []
    }
  ]
}